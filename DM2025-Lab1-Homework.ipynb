{
 "cells": [
  {
   "cell_type": "markdown",
   "metadata": {},
   "source": [
    "### Student Information\n",
    "Name: Najma Previa Jati\n",
    "\n",
    "Student ID: 111006226\n",
    "\n",
    "GitHub ID: viajati"
   ]
  },
  {
   "cell_type": "markdown",
   "metadata": {},
   "source": [
    "---"
   ]
  },
  {
   "cell_type": "markdown",
   "metadata": {},
   "source": [
    "### Instructions"
   ]
  },
  {
   "cell_type": "markdown",
   "metadata": {},
   "source": [
    "### First Phase Submission"
   ]
  },
  {
   "cell_type": "markdown",
   "metadata": {},
   "source": [
    "1. First: do the **take home** exercises in the [DM2025-Lab1-Master](https://github.com/leoson-wu/DM2025-Lab1-Exercise/blob/main/DM2025-Lab1-Master.ipynb) that considered as **phase 1 (from exercise 1 to exercise 15)**. You can answer in the master file. __This part is worth 10% of your grade.__\n",
    "\n",
    "\n",
    "2. Second: follow the same process from the [DM2025-Lab1-Master](https://github.com/leoson-wu/DM2025-Lab1-Exercise/blob/main/DM2025-Lab1-Master.ipynb) on **the new dataset** up **until phase 1**. You can skip some exercises if you think some steps are not necessary. However main exercises should be completed. You don't need to explain all details as we did (some **minimal comments** explaining your code are useful though).  __This part is worth 15% of your grade.__\n",
    "    -  Use [the new dataset](https://github.com/leoson-wu/DM2025-Lab1-Exercise/blob/main/newdataset/Reddit-stock-sentiment.csv). The dataset contains a 16 columns including 'text' and 'label', with the sentiment labels being: 1.0 is positive, 0.0 is neutral and -1.0 is negative. You can simplify the dataset and use only the columns that you think are necessary. \n",
    "    \n",
    "    - You are allowed to use and modify the `helper` functions in the folder of the first lab session (notice they may need modification) or create your own.\n",
    "    - Use this file to complete the homework from the second part. Make sure the code can be run from the beginning till the end and has all the needed output.\n",
    "\n",
    "\n",
    "3. Third: please attempt the following tasks on **the new dataset**. __This part is worth 10% of your grade.__\n",
    "    - Generate meaningful **new data visualizations**. Refer to online resources and the Data Mining textbook for inspiration and ideas. \n",
    "    \n",
    "\n",
    "\n",
    "4. Fourth: It's hard for us to follow if your code is messy, so please **tidy up your notebook** and **add minimal comments where needed**. __This part is worth 5% of your grade.__\n",
    "\n",
    "You can submit your homework following these guidelines: [DM2025-Lab1-announcement](https://github.com/leoson-wu/DM2025-Lab1-Announcement/blob/main/README.md). Make sure to commit and save your changes to your repository __BEFORE the deadline (September 28th 11:59 pm, Sunday)__. "
   ]
  },
  {
   "cell_type": "markdown",
   "metadata": {},
   "source": [
    "### Second Phase Submission "
   ]
  },
  {
   "cell_type": "markdown",
   "metadata": {},
   "source": [
    "**You can keep the answer for phase 1 for easier running and update the phase 2 on the same page.**\n",
    "\n",
    "1. First: Continue doing the **take home** exercises in the [DM2025-Lab1-Master](https://github.com/leoson-wu/DM2025-Lab1-Exercise/blob/main/DM2025-Lab1-Master.ipynb) for **phase 2, starting from Finding frequent patterns**. Use the same master(.ipynb) file. Answer from phase 1 will not be considered at this stage. You can answer in the master file. __This part is worth 10% of your grade.__\n",
    "\n",
    "\n",
    "2. Second: Continue from first phase and do the same process from the [DM2025-Lab1-Master](https://github.com/leoson-wu/DM2025-Lab1-Exercise/blob/main/DM2025-Lab1-Master.ipynb) on **the new dataset** for phase 2, starting from Finding frequent pattern. You can skip some exercises if you think some steps are not necessary. However main exercises should be completed. You don't need to explain all details as we did (some **minimal comments** explaining your code are useful though).  __This part is worth 15% of your grade.__\n",
    "    - Continue using this file to complete the homework from the second part. Make sure the code can be run from the beginning till the end and has all the needed output. Use the same new dataset as in phase 1.\n",
    "    \n",
    "    - You are allowed to use and modify the `helper` functions in the folder of the first lab session (notice they may need modification) or create your own.\n",
    "\n",
    "3. Third: please attempt the following tasks on **the new dataset**. __This part is worth 20% of your grade.__\n",
    "    - Use this file to answer.\n",
    "    - Generate **TF-IDF features** from the tokens of each text. This will generating a document matrix, however, the weights will be computed differently (using the TF-IDF value of each word per document as opposed to the word frequency).  Refer to this Scikit-learn [guide](http://scikit-learn.org/stable/modules/generated/sklearn.feature_extraction.text.TfidfVectorizer.html) .\n",
    "    - Implement a simple **Naive Bayes classifier** that automatically classifies the records into their categories. Use both the TF-IDF features and word frequency features to build two seperate classifiers. Note that for the TF-IDF features you might need to use other type of NB classifier different than the one in the Master Notebook. Comment on the differences and when using augmentation with feature pattern.  Refer to this [article](https://hub.packtpub.com/implementing-3-naive-bayes-classifiers-in-scikit-learn/).\n",
    "\n",
    "\n",
    "4. Fourth: In the lab, we applied each step really quickly just to illustrate how to work with your dataset. There are somethings that are not ideal or the most efficient/meaningful. Each dataset can be handled differently as well. What are those inefficent parts you noticed? How can you improve the Data preprocessing for these specific datasets? __This part is worth 10% of your grade.__\n",
    "\n",
    "\n",
    "5. Fifth: It's hard for us to follow if your code is messy, so please **tidy up your notebook** and **add minimal comments where needed**. __This part is worth 5% of your grade.__\n",
    "\n",
    "\n",
    "You can submit your homework following these guidelines: [DM2025-Lab1-announcement](https://github.com/leoson-wu/DM2025-Lab1-Announcement/blob/main/README.md). Make sure to commit and save your changes to your repository __BEFORE the deadline (October 19th 11:59 pm, Sunday)__. "
   ]
  },
  {
   "cell_type": "markdown",
   "metadata": {},
   "source": [
    "# Phase 1"
   ]
  },
  {
   "cell_type": "code",
   "execution_count": 2,
   "metadata": {},
   "outputs": [
    {
     "name": "stderr",
     "output_type": "stream",
     "text": [
      "[nltk_data] Downloading package punkt to\n",
      "[nltk_data]     C:\\Users\\user\\AppData\\Roaming\\nltk_data...\n",
      "[nltk_data]   Package punkt is already up-to-date!\n"
     ]
    }
   ],
   "source": [
    "### Begin Assignment Here\n",
    "\n",
    "import pandas as pd, numpy as np, matplotlib.pyplot as plt, seaborn as sns\n",
    "from sklearn.feature_extraction.text import CountVectorizer\n",
    "import nltk; nltk.download('punkt')\n",
    "\n",
    "# load new dataset\n",
    "df = pd.read_csv(\n",
    "    r\"C:\\Users\\user\\Downloads\\lab1\\DM2025Labs\\DM2025-Lab1-Exercise\\newdataset\\Reddit-stock-sentiment.csv\"\n",
    ")\n",
    "# keep only what we need\n",
    "X = df[['text','label']].copy()\n",
    "\n",
    "# add readable label\n",
    "label_map = {1.0:'positive', 0.0:'neutral', -1.0:'negative'}\n",
    "X['label_name'] = X['label'].map(label_map)\n"
   ]
  },
  {
   "cell_type": "code",
   "execution_count": 3,
   "metadata": {},
   "outputs": [
    {
     "name": "stdout",
     "output_type": "stream",
     "text": [
      "example 1\n",
      "Calls on retards\n",
      "\n",
      "example 2\n",
      "Stunt as in like why did they even make a big deal about starting it in the first place? No company should ever talk about politics ever.\n",
      "\n",
      "example 3\n",
      "Seeing lots of red in the ticker.\n",
      "\n"
     ]
    }
   ],
   "source": [
    "# Exercise 1\n",
    "\n",
    "# print first 3 documents \n",
    "for i in range(3):\n",
    "    print(f\"example {i+1}\\n{X.loc[i,'text']}\\n\")"
   ]
  },
  {
   "cell_type": "code",
   "execution_count": 4,
   "metadata": {},
   "outputs": [
    {
     "data": {
      "text/html": [
       "<div>\n",
       "<style scoped>\n",
       "    .dataframe tbody tr th:only-of-type {\n",
       "        vertical-align: middle;\n",
       "    }\n",
       "\n",
       "    .dataframe tbody tr th {\n",
       "        vertical-align: top;\n",
       "    }\n",
       "\n",
       "    .dataframe thead th {\n",
       "        text-align: right;\n",
       "    }\n",
       "</style>\n",
       "<table border=\"1\" class=\"dataframe\">\n",
       "  <thead>\n",
       "    <tr style=\"text-align: right;\">\n",
       "      <th></th>\n",
       "      <th>text</th>\n",
       "      <th>label</th>\n",
       "      <th>label_name</th>\n",
       "    </tr>\n",
       "  </thead>\n",
       "  <tbody>\n",
       "    <tr>\n",
       "      <th>3</th>\n",
       "      <td>Vision Marine Technologies Inc. is rewriting t...</td>\n",
       "      <td>1.0</td>\n",
       "      <td>positive</td>\n",
       "    </tr>\n",
       "    <tr>\n",
       "      <th>7</th>\n",
       "      <td>Confirmed not a trap. Its been like this for p...</td>\n",
       "      <td>0.0</td>\n",
       "      <td>neutral</td>\n",
       "    </tr>\n",
       "    <tr>\n",
       "      <th>8</th>\n",
       "      <td>Am I the only one seeing the cup &amp; handle brea...</td>\n",
       "      <td>1.0</td>\n",
       "      <td>positive</td>\n",
       "    </tr>\n",
       "    <tr>\n",
       "      <th>9</th>\n",
       "      <td>HLGN is $10. Hurry and catch it now before it ...</td>\n",
       "      <td>1.0</td>\n",
       "      <td>positive</td>\n",
       "    </tr>\n",
       "    <tr>\n",
       "      <th>13</th>\n",
       "      <td>\\r\\nI’ve been doing pretty good with this, but...</td>\n",
       "      <td>0.0</td>\n",
       "      <td>neutral</td>\n",
       "    </tr>\n",
       "  </tbody>\n",
       "</table>\n",
       "</div>"
      ],
      "text/plain": [
       "                                                 text  label label_name\n",
       "3   Vision Marine Technologies Inc. is rewriting t...    1.0   positive\n",
       "7   Confirmed not a trap. Its been like this for p...    0.0    neutral\n",
       "8   Am I the only one seeing the cup & handle brea...    1.0   positive\n",
       "9   HLGN is $10. Hurry and catch it now before it ...    1.0   positive\n",
       "13  \\r\\nI’ve been doing pretty good with this, but...    0.0    neutral"
      ]
     },
     "execution_count": 4,
     "metadata": {},
     "output_type": "execute_result"
    }
   ],
   "source": [
    "# Exercise 2\n",
    "\n",
    "# posts that mention \"stock\" or \"market\"\n",
    "X[X['text'].str.contains(r\"\\bstock|market\\b\", case=False, na=False)].head(3)\n",
    "\n",
    "# very short vs very long\n",
    "X[X['text'].str.len()<200].head(3)\n",
    "X[X['text'].str.len()>3000].head(2)\n",
    "\n",
    "# has a $TICKER pattern like $AAPL\n",
    "X[X['text'].str.contains(r\"\\$[A-Z]{2,5}\", na=False)].head(5)\n",
    "\n",
    "# has numbers (prices/dates)\n",
    "X[X['text'].str.contains(r\"\\d\", na=False)].head(5)\n"
   ]
  },
  {
   "cell_type": "code",
   "execution_count": 5,
   "metadata": {},
   "outputs": [
    {
     "data": {
      "text/html": [
       "<div>\n",
       "<style scoped>\n",
       "    .dataframe tbody tr th:only-of-type {\n",
       "        vertical-align: middle;\n",
       "    }\n",
       "\n",
       "    .dataframe tbody tr th {\n",
       "        vertical-align: top;\n",
       "    }\n",
       "\n",
       "    .dataframe thead th {\n",
       "        text-align: right;\n",
       "    }\n",
       "</style>\n",
       "<table border=\"1\" class=\"dataframe\">\n",
       "  <thead>\n",
       "    <tr style=\"text-align: right;\">\n",
       "      <th></th>\n",
       "      <th>text</th>\n",
       "      <th>label</th>\n",
       "      <th>label_name</th>\n",
       "    </tr>\n",
       "  </thead>\n",
       "  <tbody>\n",
       "    <tr>\n",
       "      <th>3</th>\n",
       "      <td>Vision Marine Technologies Inc. is rewriting t...</td>\n",
       "      <td>1.0</td>\n",
       "      <td>positive</td>\n",
       "    </tr>\n",
       "    <tr>\n",
       "      <th>78</th>\n",
       "      <td>I think it’s gonna work itself out. I bought t...</td>\n",
       "      <td>1.0</td>\n",
       "      <td>positive</td>\n",
       "    </tr>\n",
       "    <tr>\n",
       "      <th>168</th>\n",
       "      <td>The obvious can also be refreshing from CNBC: ...</td>\n",
       "      <td>1.0</td>\n",
       "      <td>positive</td>\n",
       "    </tr>\n",
       "    <tr>\n",
       "      <th>219</th>\n",
       "      <td>Same. Back to break even after that last rip b...</td>\n",
       "      <td>1.0</td>\n",
       "      <td>positive</td>\n",
       "    </tr>\n",
       "    <tr>\n",
       "      <th>319</th>\n",
       "      <td>Etrade has a feed of news articles about how r...</td>\n",
       "      <td>1.0</td>\n",
       "      <td>positive</td>\n",
       "    </tr>\n",
       "  </tbody>\n",
       "</table>\n",
       "</div>"
      ],
      "text/plain": [
       "                                                  text  label label_name\n",
       "3    Vision Marine Technologies Inc. is rewriting t...    1.0   positive\n",
       "78   I think it’s gonna work itself out. I bought t...    1.0   positive\n",
       "168  The obvious can also be refreshing from CNBC: ...    1.0   positive\n",
       "219  Same. Back to break even after that last rip b...    1.0   positive\n",
       "319  Etrade has a feed of news articles about how r...    1.0   positive"
      ]
     },
     "execution_count": 5,
     "metadata": {},
     "output_type": "execute_result"
    }
   ],
   "source": [
    "# Exercise 3\n",
    "\n",
    "# take positive only, then every 10th, show first 5\n",
    "X[X['label_name']=='positive'][::10].head(5)\n"
   ]
  },
  {
   "cell_type": "code",
   "execution_count": 7,
   "metadata": {},
   "outputs": [
    {
     "name": "stdout",
     "output_type": "stream",
     "text": [
      "0    (The amoung of missing records is: , 0)\n",
      "1    (The amoung of missing records is: , 0)\n",
      "2    (The amoung of missing records is: , 0)\n",
      "3    (The amoung of missing records is: , 0)\n",
      "4    (The amoung of missing records is: , 0)\n",
      "dtype: object\n"
     ]
    }
   ],
   "source": [
    "# Exercise 4\n",
    "# simple checker per row (axis=1)\n",
    "\n",
    "def check_missing_values(x):\n",
    "    return (\"The amoung of missing records is: \", int(x.isnull().sum()))\n",
    "print(X.isnull().apply(lambda row: check_missing_values(row), axis=1).head())\n"
   ]
  },
  {
   "cell_type": "code",
   "execution_count": 9,
   "metadata": {},
   "outputs": [
    {
     "data": {
      "text/html": [
       "<div>\n",
       "<style scoped>\n",
       "    .dataframe tbody tr th:only-of-type {\n",
       "        vertical-align: middle;\n",
       "    }\n",
       "\n",
       "    .dataframe tbody tr th {\n",
       "        vertical-align: top;\n",
       "    }\n",
       "\n",
       "    .dataframe thead th {\n",
       "        text-align: right;\n",
       "    }\n",
       "</style>\n",
       "<table border=\"1\" class=\"dataframe\">\n",
       "  <thead>\n",
       "    <tr style=\"text-align: right;\">\n",
       "      <th></th>\n",
       "      <th>id</th>\n",
       "      <th>text</th>\n",
       "    </tr>\n",
       "  </thead>\n",
       "  <tbody>\n",
       "    <tr>\n",
       "      <th>0</th>\n",
       "      <td>A</td>\n",
       "      <td>NaN</td>\n",
       "    </tr>\n",
       "    <tr>\n",
       "      <th>1</th>\n",
       "      <td>B</td>\n",
       "      <td>NaN</td>\n",
       "    </tr>\n",
       "    <tr>\n",
       "      <th>2</th>\n",
       "      <td>C</td>\n",
       "      <td>NaN</td>\n",
       "    </tr>\n",
       "    <tr>\n",
       "      <th>3</th>\n",
       "      <td>D</td>\n",
       "      <td>None</td>\n",
       "    </tr>\n",
       "    <tr>\n",
       "      <th>4</th>\n",
       "      <td>E</td>\n",
       "      <td>None</td>\n",
       "    </tr>\n",
       "    <tr>\n",
       "      <th>5</th>\n",
       "      <td>F</td>\n",
       "      <td></td>\n",
       "    </tr>\n",
       "  </tbody>\n",
       "</table>\n",
       "</div>"
      ],
      "text/plain": [
       "  id  text\n",
       "0  A   NaN\n",
       "1  B   NaN\n",
       "2  C   NaN\n",
       "3  D  None\n",
       "4  E  None\n",
       "5  F      "
      ]
     },
     "metadata": {},
     "output_type": "display_data"
    },
    {
     "name": "stdout",
     "output_type": "stream",
     "text": [
      "0     True\n",
      "1     True\n",
      "2    False\n",
      "3    False\n",
      "4     True\n",
      "5    False\n",
      "Name: text, dtype: bool\n"
     ]
    }
   ],
   "source": [
    "# Exercise 5\n",
    "buggy_examples = [\n",
    "    {\"id\": \"A\", \"text\": np.nan},      # real NaN\n",
    "    {\"id\": \"B\"},                      # missing key → NaN\n",
    "    {\"id\": \"C\", \"text\": \"NaN\"},       # string \"NaN\"\n",
    "    {\"id\": \"D\", \"text\": \"None\"},      # string \"None\"\n",
    "    {\"id\": \"E\", \"text\": None},        # real Python None\n",
    "    {\"id\": \"F\", \"text\": \"\"}           # empty string\n",
    "]\n",
    "\n",
    "buggy_df = pd.DataFrame(buggy_examples, columns=[\"id\", \"text\"])\n",
    "display(buggy_df)\n",
    "\n",
    "# check with isnull()\n",
    "print(buggy_df[\"text\"].isnull())\n"
   ]
  },
  {
   "cell_type": "code",
   "execution_count": 10,
   "metadata": {},
   "outputs": [
    {
     "name": "stdout",
     "output_type": "stream",
     "text": [
      "0    True\n",
      "1    True\n",
      "2    True\n",
      "3    True\n",
      "4    True\n",
      "5    True\n",
      "Name: text, dtype: bool\n"
     ]
    },
    {
     "name": "stderr",
     "output_type": "stream",
     "text": [
      "C:\\Users\\user\\AppData\\Local\\Temp\\ipykernel_2068\\2653504601.py:2: FutureWarning: Downcasting behavior in `replace` is deprecated and will be removed in a future version. To retain the old behavior, explicitly call `result.infer_objects(copy=False)`. To opt-in to the future behavior, set `pd.set_option('future.no_silent_downcasting', True)`\n",
      "  buggy_df[\"text\"] = buggy_df[\"text\"].replace([\"NaN\", \"None\", \"\"], np.nan)\n"
     ]
    }
   ],
   "source": [
    "# Fix: replace the fake missing values with actual np.nan\n",
    "buggy_df[\"text\"] = buggy_df[\"text\"].replace([\"NaN\", \"None\", \"\"], np.nan)\n",
    "\n",
    "# now check again\n",
    "print(buggy_df[\"text\"].isnull())"
   ]
  },
  {
   "cell_type": "markdown",
   "metadata": {},
   "source": [
    "What I observed is that .isnull() only works for actual np.nan or real Python None. It does not catch “fake” missing values like the string \"NaN\", the string \"None\", or an empty string '', because pandas treats those as ordinary text. That’s why some rows came back as False even though they look like missing values to us.\n",
    "\n",
    "The fix is to explicitly replace those fake values with np.nan before running .isnull(). After doing this, pandas correctly recognizes all of them as missing."
   ]
  },
  {
   "cell_type": "code",
   "execution_count": 16,
   "metadata": {},
   "outputs": [
    {
     "name": "stdout",
     "output_type": "stream",
     "text": [
      "df has 847 rows\n",
      "df_sample has 100 rows\n"
     ]
    }
   ],
   "source": [
    "# Exercise 6\n",
    "\n",
    "df_sample = df.sample(n=100, random_state=42)\n",
    "\n",
    "# If we type in these codes, we can see that df is the full dataset,\n",
    "# while df_sample is the smaller 100-row dataset.\n",
    "\n",
    "print(\"df has\", len(df), \"rows\")\n",
    "print(\"df_sample has\", len(df_sample), \"rows\")\n",
    "\n",
    "# df_sample is just a smaller portion of the data taken randomly\n",
    "# from the bigger dataset. It’s used to work faster without \n",
    "# always needing the entire dataset.\n",
    "\n"
   ]
  },
  {
   "cell_type": "code",
   "execution_count": 17,
   "metadata": {},
   "outputs": [
    {
     "name": "stdout",
     "output_type": "stream",
     "text": [
      "      type             datetime  post_id         subreddit  \\\n",
      "0  comment  2025-04-11 17:29:56  mmli62w    wallstreetbets   \n",
      "1  comment   2025-04-12 1:12:19  mmnu7v9    wallstreetbets   \n",
      "2  comment  2025-04-10 15:09:41  mmeevio       StockMarket   \n",
      "3     post  2023-08-30 17:12:55  165kllm  stockstobuytoday   \n",
      "4  comment  2025-04-11 14:48:05  mmkl6bw       StockMarket   \n",
      "\n",
      "                                               title                author  \\\n",
      "0    Retardation is on the menu boys! WSB is so back          StickyTip420   \n",
      "1  Retail giant TARGET has now declined for 10 co...  Comfortable-Dog-8437   \n",
      "2  How do you feel about a sitting president maki...          Btankersly66   \n",
      "3                              Who knows more? $VMAR             emiljenfn   \n",
      "4  The Trump administration is begging Xi Jinping...          Just-Big6411   \n",
      "\n",
      "                                                 url  upvotes  downvotes  \\\n",
      "0               https://i.redd.it/0yq2ftren8ue1.jpeg        0        NaN   \n",
      "1               https://i.redd.it/7tl6puv9waue1.jpeg      -15        NaN   \n",
      "2  https://apnews.com/article/trump-truth-social-...        1        NaN   \n",
      "3  https://www.reddit.com/r/stockstobuytoday/comm...       30        0.0   \n",
      "4  https://edition.cnn.com/2025/04/10/politics/tr...        1        NaN   \n",
      "\n",
      "   upvote_ratio                                               text  \\\n",
      "0           NaN                                   Calls on retards   \n",
      "1           NaN  Stunt as in like why did they even make a big ...   \n",
      "2           NaN                  Seeing lots of red in the ticker.   \n",
      "3          0.98  Vision Marine Technologies Inc. is rewriting t...   \n",
      "4           NaN                           He didn’t say thank you.   \n",
      "\n",
      "   subjectivity  polarity  sentiment  \\\n",
      "0      1.000000 -0.900000       -1.0   \n",
      "1      0.177778  0.083333        1.0   \n",
      "2      0.000000  0.000000        0.0   \n",
      "3      0.646970  0.216383        1.0   \n",
      "4      0.000000  0.000000        0.0   \n",
      "\n",
      "                                            entities  label  \n",
      "0                                                 []   -1.0  \n",
      "1              ['Stunt', 'company', 'deal', 'place']    0.0  \n",
      "2                                         ['ticker']    0.0  \n",
      "3  ['watercraft', 'skill', 'power', ']', 'feat', ...    1.0  \n",
      "4                                                 []   -1.0  \n",
      "        type             datetime  post_id       subreddit  \\\n",
      "457  comment  2025-04-11 15:42:58  mmkwda9     StockMarket   \n",
      "342  comment   2025-04-12 3:04:05  mmob98a  wallstreetbets   \n",
      "280  comment  2025-04-10 14:40:26  mme8wxn     StockMarket   \n",
      "275  comment   2025-04-12 2:27:29  mmo5u51  wallstreetbets   \n",
      "843  comment   2025-04-11 5:01:24  mmijiuz     StockMarket   \n",
      "\n",
      "                                                 title              author  \\\n",
      "457  Trump: We Are Doing Really Well On Our Tariff ...  IamNotaMonkeyRobot   \n",
      "342  Retail giant TARGET has now declined for 10 co...    iPlayedHockeInHS   \n",
      "280  How do you feel about a sitting president maki...         Narradisall   \n",
      "275  Retail giant TARGET has now declined for 10 co...         ChristianLS   \n",
      "843                     $ U.S. dollar value (crashing)          lulububudu   \n",
      "\n",
      "                                                   url  upvotes  downvotes  \\\n",
      "457                https://i.redd.it/uajqu4kxl7ue1.png        1        NaN   \n",
      "342               https://i.redd.it/7tl6puv9waue1.jpeg        1        NaN   \n",
      "280  https://apnews.com/article/trump-truth-social-...        2        NaN   \n",
      "275               https://i.redd.it/7tl6puv9waue1.jpeg        1        NaN   \n",
      "843               https://i.redd.it/atvlo83gk4ue1.jpeg        2        NaN   \n",
      "\n",
      "     upvote_ratio                                               text  \\\n",
      "457           NaN                                          \"We\" who?   \n",
      "342           NaN                                     Chicken jockey   \n",
      "280           NaN                                      Not great Bob   \n",
      "275           NaN  Speak for yourself, my wife is being harder on...   \n",
      "843           NaN                             Where can I read this?   \n",
      "\n",
      "     subjectivity  polarity  sentiment  \\\n",
      "457      0.000000  0.000000        0.0   \n",
      "342      0.950000 -0.600000       -1.0   \n",
      "280      0.750000  0.800000        1.0   \n",
      "275      0.633333  0.633333        1.0   \n",
      "843      0.000000  0.000000        0.0   \n",
      "\n",
      "                                              entities  label  \n",
      "457                                                 []    0.0  \n",
      "342                              ['jockey', 'Chicken']    0.0  \n",
      "280                                            ['Bob']   -1.0  \n",
      "275  ['BBQ', 'potato', 'anime', 'wife', 'level', 'S...    0.0  \n",
      "843                                                 []    0.0  \n"
     ]
    }
   ],
   "source": [
    "# If we take a look at the first few rows of each:\n",
    "print(df.head())\n",
    "print(df_sample.head())\n",
    "\n",
    "# We can see that df starts at index 0, 1, 2, ...\n",
    "# while df_sample might show random rows like 457, 342,...,\n",
    "# because they were randomly pulled."
   ]
  },
  {
   "cell_type": "code",
   "execution_count": 18,
   "metadata": {},
   "outputs": [
    {
     "name": "stdout",
     "output_type": "stream",
     "text": [
      "First 10 indexes of df: [0, 1, 2, 3, 4, 5, 6, 7, 8, 9]\n",
      "First 10 indexes of df_sample: [457, 342, 280, 275, 843, 734, 96, 662, 109, 655]\n"
     ]
    }
   ],
   "source": [
    "# If we compare the indexes directly:\n",
    "print(\"First 10 indexes of df:\", df.index[:10].tolist())\n",
    "print(\"First 10 indexes of df_sample:\", df_sample.index[:10].tolist())\n",
    "\n",
    "# We notice that df indexes are continuous,\n",
    "# but df_sample indexes are scattered."
   ]
  },
  {
   "cell_type": "code",
   "execution_count": 19,
   "metadata": {},
   "outputs": [
    {
     "data": {
      "text/html": [
       "<div>\n",
       "<style scoped>\n",
       "    .dataframe tbody tr th:only-of-type {\n",
       "        vertical-align: middle;\n",
       "    }\n",
       "\n",
       "    .dataframe tbody tr th {\n",
       "        vertical-align: top;\n",
       "    }\n",
       "\n",
       "    .dataframe thead th {\n",
       "        text-align: right;\n",
       "    }\n",
       "</style>\n",
       "<table border=\"1\" class=\"dataframe\">\n",
       "  <thead>\n",
       "    <tr style=\"text-align: right;\">\n",
       "      <th></th>\n",
       "      <th>type</th>\n",
       "      <th>datetime</th>\n",
       "      <th>post_id</th>\n",
       "      <th>subreddit</th>\n",
       "      <th>title</th>\n",
       "      <th>author</th>\n",
       "      <th>url</th>\n",
       "      <th>upvotes</th>\n",
       "      <th>downvotes</th>\n",
       "      <th>upvote_ratio</th>\n",
       "      <th>...</th>\n",
       "      <th>url</th>\n",
       "      <th>upvotes</th>\n",
       "      <th>downvotes</th>\n",
       "      <th>upvote_ratio</th>\n",
       "      <th>text</th>\n",
       "      <th>subjectivity</th>\n",
       "      <th>polarity</th>\n",
       "      <th>sentiment</th>\n",
       "      <th>entities</th>\n",
       "      <th>label</th>\n",
       "    </tr>\n",
       "  </thead>\n",
       "  <tbody>\n",
       "    <tr>\n",
       "      <th>0</th>\n",
       "      <td>comment</td>\n",
       "      <td>2025-04-11 17:29:56</td>\n",
       "      <td>mmli62w</td>\n",
       "      <td>wallstreetbets</td>\n",
       "      <td>Retardation is on the menu boys! WSB is so back</td>\n",
       "      <td>StickyTip420</td>\n",
       "      <td>https://i.redd.it/0yq2ftren8ue1.jpeg</td>\n",
       "      <td>0.0</td>\n",
       "      <td>NaN</td>\n",
       "      <td>NaN</td>\n",
       "      <td>...</td>\n",
       "      <td>NaN</td>\n",
       "      <td>NaN</td>\n",
       "      <td>NaN</td>\n",
       "      <td>NaN</td>\n",
       "      <td>NaN</td>\n",
       "      <td>NaN</td>\n",
       "      <td>NaN</td>\n",
       "      <td>NaN</td>\n",
       "      <td>NaN</td>\n",
       "      <td>NaN</td>\n",
       "    </tr>\n",
       "    <tr>\n",
       "      <th>1</th>\n",
       "      <td>comment</td>\n",
       "      <td>2025-04-12 1:12:19</td>\n",
       "      <td>mmnu7v9</td>\n",
       "      <td>wallstreetbets</td>\n",
       "      <td>Retail giant TARGET has now declined for 10 co...</td>\n",
       "      <td>Comfortable-Dog-8437</td>\n",
       "      <td>https://i.redd.it/7tl6puv9waue1.jpeg</td>\n",
       "      <td>-15.0</td>\n",
       "      <td>NaN</td>\n",
       "      <td>NaN</td>\n",
       "      <td>...</td>\n",
       "      <td>NaN</td>\n",
       "      <td>NaN</td>\n",
       "      <td>NaN</td>\n",
       "      <td>NaN</td>\n",
       "      <td>NaN</td>\n",
       "      <td>NaN</td>\n",
       "      <td>NaN</td>\n",
       "      <td>NaN</td>\n",
       "      <td>NaN</td>\n",
       "      <td>NaN</td>\n",
       "    </tr>\n",
       "    <tr>\n",
       "      <th>2</th>\n",
       "      <td>comment</td>\n",
       "      <td>2025-04-10 15:09:41</td>\n",
       "      <td>mmeevio</td>\n",
       "      <td>StockMarket</td>\n",
       "      <td>How do you feel about a sitting president maki...</td>\n",
       "      <td>Btankersly66</td>\n",
       "      <td>https://apnews.com/article/trump-truth-social-...</td>\n",
       "      <td>1.0</td>\n",
       "      <td>NaN</td>\n",
       "      <td>NaN</td>\n",
       "      <td>...</td>\n",
       "      <td>NaN</td>\n",
       "      <td>NaN</td>\n",
       "      <td>NaN</td>\n",
       "      <td>NaN</td>\n",
       "      <td>NaN</td>\n",
       "      <td>NaN</td>\n",
       "      <td>NaN</td>\n",
       "      <td>NaN</td>\n",
       "      <td>NaN</td>\n",
       "      <td>NaN</td>\n",
       "    </tr>\n",
       "    <tr>\n",
       "      <th>3</th>\n",
       "      <td>post</td>\n",
       "      <td>2023-08-30 17:12:55</td>\n",
       "      <td>165kllm</td>\n",
       "      <td>stockstobuytoday</td>\n",
       "      <td>Who knows more? $VMAR</td>\n",
       "      <td>emiljenfn</td>\n",
       "      <td>https://www.reddit.com/r/stockstobuytoday/comm...</td>\n",
       "      <td>30.0</td>\n",
       "      <td>0.0</td>\n",
       "      <td>0.98</td>\n",
       "      <td>...</td>\n",
       "      <td>NaN</td>\n",
       "      <td>NaN</td>\n",
       "      <td>NaN</td>\n",
       "      <td>NaN</td>\n",
       "      <td>NaN</td>\n",
       "      <td>NaN</td>\n",
       "      <td>NaN</td>\n",
       "      <td>NaN</td>\n",
       "      <td>NaN</td>\n",
       "      <td>NaN</td>\n",
       "    </tr>\n",
       "    <tr>\n",
       "      <th>4</th>\n",
       "      <td>comment</td>\n",
       "      <td>2025-04-11 14:48:05</td>\n",
       "      <td>mmkl6bw</td>\n",
       "      <td>StockMarket</td>\n",
       "      <td>The Trump administration is begging Xi Jinping...</td>\n",
       "      <td>Just-Big6411</td>\n",
       "      <td>https://edition.cnn.com/2025/04/10/politics/tr...</td>\n",
       "      <td>1.0</td>\n",
       "      <td>NaN</td>\n",
       "      <td>NaN</td>\n",
       "      <td>...</td>\n",
       "      <td>NaN</td>\n",
       "      <td>NaN</td>\n",
       "      <td>NaN</td>\n",
       "      <td>NaN</td>\n",
       "      <td>NaN</td>\n",
       "      <td>NaN</td>\n",
       "      <td>NaN</td>\n",
       "      <td>NaN</td>\n",
       "      <td>NaN</td>\n",
       "      <td>NaN</td>\n",
       "    </tr>\n",
       "    <tr>\n",
       "      <th>457</th>\n",
       "      <td>NaN</td>\n",
       "      <td>NaN</td>\n",
       "      <td>NaN</td>\n",
       "      <td>NaN</td>\n",
       "      <td>NaN</td>\n",
       "      <td>NaN</td>\n",
       "      <td>NaN</td>\n",
       "      <td>NaN</td>\n",
       "      <td>NaN</td>\n",
       "      <td>NaN</td>\n",
       "      <td>...</td>\n",
       "      <td>https://i.redd.it/uajqu4kxl7ue1.png</td>\n",
       "      <td>1.0</td>\n",
       "      <td>NaN</td>\n",
       "      <td>NaN</td>\n",
       "      <td>\"We\" who?</td>\n",
       "      <td>0.000000</td>\n",
       "      <td>0.000000</td>\n",
       "      <td>0.0</td>\n",
       "      <td>[]</td>\n",
       "      <td>0.0</td>\n",
       "    </tr>\n",
       "    <tr>\n",
       "      <th>342</th>\n",
       "      <td>NaN</td>\n",
       "      <td>NaN</td>\n",
       "      <td>NaN</td>\n",
       "      <td>NaN</td>\n",
       "      <td>NaN</td>\n",
       "      <td>NaN</td>\n",
       "      <td>NaN</td>\n",
       "      <td>NaN</td>\n",
       "      <td>NaN</td>\n",
       "      <td>NaN</td>\n",
       "      <td>...</td>\n",
       "      <td>https://i.redd.it/7tl6puv9waue1.jpeg</td>\n",
       "      <td>1.0</td>\n",
       "      <td>NaN</td>\n",
       "      <td>NaN</td>\n",
       "      <td>Chicken jockey</td>\n",
       "      <td>0.950000</td>\n",
       "      <td>-0.600000</td>\n",
       "      <td>-1.0</td>\n",
       "      <td>['jockey', 'Chicken']</td>\n",
       "      <td>0.0</td>\n",
       "    </tr>\n",
       "    <tr>\n",
       "      <th>280</th>\n",
       "      <td>NaN</td>\n",
       "      <td>NaN</td>\n",
       "      <td>NaN</td>\n",
       "      <td>NaN</td>\n",
       "      <td>NaN</td>\n",
       "      <td>NaN</td>\n",
       "      <td>NaN</td>\n",
       "      <td>NaN</td>\n",
       "      <td>NaN</td>\n",
       "      <td>NaN</td>\n",
       "      <td>...</td>\n",
       "      <td>https://apnews.com/article/trump-truth-social-...</td>\n",
       "      <td>2.0</td>\n",
       "      <td>NaN</td>\n",
       "      <td>NaN</td>\n",
       "      <td>Not great Bob</td>\n",
       "      <td>0.750000</td>\n",
       "      <td>0.800000</td>\n",
       "      <td>1.0</td>\n",
       "      <td>['Bob']</td>\n",
       "      <td>-1.0</td>\n",
       "    </tr>\n",
       "    <tr>\n",
       "      <th>275</th>\n",
       "      <td>NaN</td>\n",
       "      <td>NaN</td>\n",
       "      <td>NaN</td>\n",
       "      <td>NaN</td>\n",
       "      <td>NaN</td>\n",
       "      <td>NaN</td>\n",
       "      <td>NaN</td>\n",
       "      <td>NaN</td>\n",
       "      <td>NaN</td>\n",
       "      <td>NaN</td>\n",
       "      <td>...</td>\n",
       "      <td>https://i.redd.it/7tl6puv9waue1.jpeg</td>\n",
       "      <td>1.0</td>\n",
       "      <td>NaN</td>\n",
       "      <td>NaN</td>\n",
       "      <td>Speak for yourself, my wife is being harder on...</td>\n",
       "      <td>0.633333</td>\n",
       "      <td>0.633333</td>\n",
       "      <td>1.0</td>\n",
       "      <td>['BBQ', 'potato', 'anime', 'wife', 'level', 'S...</td>\n",
       "      <td>0.0</td>\n",
       "    </tr>\n",
       "    <tr>\n",
       "      <th>843</th>\n",
       "      <td>NaN</td>\n",
       "      <td>NaN</td>\n",
       "      <td>NaN</td>\n",
       "      <td>NaN</td>\n",
       "      <td>NaN</td>\n",
       "      <td>NaN</td>\n",
       "      <td>NaN</td>\n",
       "      <td>NaN</td>\n",
       "      <td>NaN</td>\n",
       "      <td>NaN</td>\n",
       "      <td>...</td>\n",
       "      <td>https://i.redd.it/atvlo83gk4ue1.jpeg</td>\n",
       "      <td>2.0</td>\n",
       "      <td>NaN</td>\n",
       "      <td>NaN</td>\n",
       "      <td>Where can I read this?</td>\n",
       "      <td>0.000000</td>\n",
       "      <td>0.000000</td>\n",
       "      <td>0.0</td>\n",
       "      <td>[]</td>\n",
       "      <td>0.0</td>\n",
       "    </tr>\n",
       "  </tbody>\n",
       "</table>\n",
       "<p>10 rows × 32 columns</p>\n",
       "</div>"
      ],
      "text/plain": [
       "        type             datetime  post_id         subreddit  \\\n",
       "0    comment  2025-04-11 17:29:56  mmli62w    wallstreetbets   \n",
       "1    comment   2025-04-12 1:12:19  mmnu7v9    wallstreetbets   \n",
       "2    comment  2025-04-10 15:09:41  mmeevio       StockMarket   \n",
       "3       post  2023-08-30 17:12:55  165kllm  stockstobuytoday   \n",
       "4    comment  2025-04-11 14:48:05  mmkl6bw       StockMarket   \n",
       "457      NaN                  NaN      NaN               NaN   \n",
       "342      NaN                  NaN      NaN               NaN   \n",
       "280      NaN                  NaN      NaN               NaN   \n",
       "275      NaN                  NaN      NaN               NaN   \n",
       "843      NaN                  NaN      NaN               NaN   \n",
       "\n",
       "                                                 title                author  \\\n",
       "0      Retardation is on the menu boys! WSB is so back          StickyTip420   \n",
       "1    Retail giant TARGET has now declined for 10 co...  Comfortable-Dog-8437   \n",
       "2    How do you feel about a sitting president maki...          Btankersly66   \n",
       "3                                Who knows more? $VMAR             emiljenfn   \n",
       "4    The Trump administration is begging Xi Jinping...          Just-Big6411   \n",
       "457                                                NaN                   NaN   \n",
       "342                                                NaN                   NaN   \n",
       "280                                                NaN                   NaN   \n",
       "275                                                NaN                   NaN   \n",
       "843                                                NaN                   NaN   \n",
       "\n",
       "                                                   url  upvotes  downvotes  \\\n",
       "0                 https://i.redd.it/0yq2ftren8ue1.jpeg      0.0        NaN   \n",
       "1                 https://i.redd.it/7tl6puv9waue1.jpeg    -15.0        NaN   \n",
       "2    https://apnews.com/article/trump-truth-social-...      1.0        NaN   \n",
       "3    https://www.reddit.com/r/stockstobuytoday/comm...     30.0        0.0   \n",
       "4    https://edition.cnn.com/2025/04/10/politics/tr...      1.0        NaN   \n",
       "457                                                NaN      NaN        NaN   \n",
       "342                                                NaN      NaN        NaN   \n",
       "280                                                NaN      NaN        NaN   \n",
       "275                                                NaN      NaN        NaN   \n",
       "843                                                NaN      NaN        NaN   \n",
       "\n",
       "     upvote_ratio  ...                                                url  \\\n",
       "0             NaN  ...                                                NaN   \n",
       "1             NaN  ...                                                NaN   \n",
       "2             NaN  ...                                                NaN   \n",
       "3            0.98  ...                                                NaN   \n",
       "4             NaN  ...                                                NaN   \n",
       "457           NaN  ...                https://i.redd.it/uajqu4kxl7ue1.png   \n",
       "342           NaN  ...               https://i.redd.it/7tl6puv9waue1.jpeg   \n",
       "280           NaN  ...  https://apnews.com/article/trump-truth-social-...   \n",
       "275           NaN  ...               https://i.redd.it/7tl6puv9waue1.jpeg   \n",
       "843           NaN  ...               https://i.redd.it/atvlo83gk4ue1.jpeg   \n",
       "\n",
       "     upvotes  downvotes  upvote_ratio  \\\n",
       "0        NaN        NaN           NaN   \n",
       "1        NaN        NaN           NaN   \n",
       "2        NaN        NaN           NaN   \n",
       "3        NaN        NaN           NaN   \n",
       "4        NaN        NaN           NaN   \n",
       "457      1.0        NaN           NaN   \n",
       "342      1.0        NaN           NaN   \n",
       "280      2.0        NaN           NaN   \n",
       "275      1.0        NaN           NaN   \n",
       "843      2.0        NaN           NaN   \n",
       "\n",
       "                                                  text  subjectivity  \\\n",
       "0                                                  NaN           NaN   \n",
       "1                                                  NaN           NaN   \n",
       "2                                                  NaN           NaN   \n",
       "3                                                  NaN           NaN   \n",
       "4                                                  NaN           NaN   \n",
       "457                                          \"We\" who?      0.000000   \n",
       "342                                     Chicken jockey      0.950000   \n",
       "280                                      Not great Bob      0.750000   \n",
       "275  Speak for yourself, my wife is being harder on...      0.633333   \n",
       "843                             Where can I read this?      0.000000   \n",
       "\n",
       "     polarity sentiment                                           entities  \\\n",
       "0         NaN       NaN                                                NaN   \n",
       "1         NaN       NaN                                                NaN   \n",
       "2         NaN       NaN                                                NaN   \n",
       "3         NaN       NaN                                                NaN   \n",
       "4         NaN       NaN                                                NaN   \n",
       "457  0.000000       0.0                                                 []   \n",
       "342 -0.600000      -1.0                              ['jockey', 'Chicken']   \n",
       "280  0.800000       1.0                                            ['Bob']   \n",
       "275  0.633333       1.0  ['BBQ', 'potato', 'anime', 'wife', 'level', 'S...   \n",
       "843  0.000000       0.0                                                 []   \n",
       "\n",
       "    label  \n",
       "0     NaN  \n",
       "1     NaN  \n",
       "2     NaN  \n",
       "3     NaN  \n",
       "4     NaN  \n",
       "457   0.0  \n",
       "342   0.0  \n",
       "280  -1.0  \n",
       "275   0.0  \n",
       "843   0.0  \n",
       "\n",
       "[10 rows x 32 columns]"
      ]
     },
     "execution_count": 19,
     "metadata": {},
     "output_type": "execute_result"
    }
   ],
   "source": [
    "# Finally, if we look at them side-by-side using concat:\n",
    "pd.concat([df.head(5), df_sample.head(5)], axis=1)\n",
    "\n",
    "# We can see 5 rows of df on the left and 5 rows of df_sample\n",
    "# on the right, which makes the differences very clear."
   ]
  },
  {
   "cell_type": "code",
   "execution_count": 21,
   "metadata": {},
   "outputs": [
    {
     "name": "stdout",
     "output_type": "stream",
     "text": [
      "label\n",
      " 0.0    423\n",
      "-1.0    315\n",
      " 1.0    109\n",
      "Name: count, dtype: int64\n"
     ]
    },
    {
     "data": {
      "text/plain": [
       "<Axes: title={'center': 'Sentiment distribution (Full dataset)'}, xlabel='label'>"
      ]
     },
     "execution_count": 21,
     "metadata": {},
     "output_type": "execute_result"
    },
    {
     "data": {
      "image/png": "[encoded data removed]",
      "text/plain": [
       "<Figure size 800x300 with 1 Axes>"
      ]
     },
     "metadata": {},
     "output_type": "display_data"
    }
   ],
   "source": [
    "# Exercise 7\n",
    "\n",
    "# We want to look at the distribution of sentiment labels in both the full dataset (df) and the sample (df_sample). \n",
    "# This will let us see if the sample is representative.\n",
    "\n",
    "# First, we check the label distribution in the full dataset:\n",
    "print(df['label'].value_counts())\n",
    "\n",
    "# Plot bar chart for df (full dataset)\n",
    "df['label'].value_counts().plot(\n",
    "    kind='bar',\n",
    "    title='Sentiment distribution (Full dataset)',\n",
    "    ylim=[0, df['label'].value_counts().max() + 30],  # automated ylim\n",
    "    rot=0, fontsize=11, figsize=(8,3)\n",
    ")\n"
   ]
  },
  {
   "cell_type": "code",
   "execution_count": 22,
   "metadata": {},
   "outputs": [
    {
     "name": "stdout",
     "output_type": "stream",
     "text": [
      "label\n",
      "-1.0    42\n",
      " 0.0    40\n",
      " 1.0    18\n",
      "Name: count, dtype: int64\n"
     ]
    },
    {
     "data": {
      "text/plain": [
       "<Axes: title={'center': 'Sentiment distribution (Sample)'}, xlabel='label'>"
      ]
     },
     "execution_count": 22,
     "metadata": {},
     "output_type": "execute_result"
    },
    {
     "data": {
      "image/png": "[encoded data removed]",
      "text/plain": [
       "<Figure size 800x300 with 1 Axes>"
      ]
     },
     "metadata": {},
     "output_type": "display_data"
    }
   ],
   "source": [
    "# Then, do the same for the sample:\n",
    "print(df_sample['label'].value_counts())\n",
    "\n",
    "df_sample['label'].value_counts().plot(\n",
    "    kind='bar',\n",
    "    title='Sentiment distribution (Sample)',\n",
    "    ylim=[0, df_sample['label'].value_counts().max() + 30],  # automated ylim\n",
    "    rot=0, fontsize=12, figsize=(8,3)\n",
    ")\n"
   ]
  },
  {
   "cell_type": "markdown",
   "metadata": {},
   "source": [
    "In the full dataset, we can see the overall counts of positive (1.0), neutral (0.0), and negative (-1.0). In the sample, the distribution should look similar but not identical, since it was randomly chosen. The key improvement is that we automated the ylim using .max() + 30, instead of hardcoding it. his makes the visualization adjust automatically if the dataset changes."
   ]
  },
  {
   "cell_type": "code",
   "execution_count": 23,
   "metadata": {},
   "outputs": [
    {
     "data": {
      "text/plain": [
       "<Axes: title={'center': 'Sentiment distribution (Full vs Sample)'}, xlabel='label'>"
      ]
     },
     "execution_count": 23,
     "metadata": {},
     "output_type": "execute_result"
    },
    {
     "data": {
      "image/png": "[encoded data removed]",
      "text/plain": [
       "<Figure size 800x400 with 1 Axes>"
      ]
     },
     "metadata": {},
     "output_type": "display_data"
    }
   ],
   "source": [
    "# Exercise 8 \n",
    "\n",
    "# We want to do a side-by-side comparison of the distribution between the full dataset (df) and the sample (df_sample).\n",
    "\n",
    "order = [-1.0, 0.0, 1.0]   # -1 = negative, 0 = neutral, 1 = positive\n",
    "\n",
    "# Create a comparison DataFrame with both distributions\n",
    "compare_df = pd.DataFrame({\n",
    "    'Full Dataset': df['label'].value_counts(),\n",
    "    'Sample Dataset': df_sample['label'].value_counts()\n",
    "}).reindex(order)\n",
    "\n",
    "# Plot them side by side\n",
    "compare_df.plot(\n",
    "    kind='bar',\n",
    "    title='Sentiment distribution (Full vs Sample)',\n",
    "    rot=0, fontsize=12, figsize=(8,4)\n",
    ")"
   ]
  },
  {
   "cell_type": "code",
   "execution_count": 25,
   "metadata": {},
   "outputs": [
    {
     "name": "stderr",
     "output_type": "stream",
     "text": [
      "[nltk_data] Downloading package punkt to\n",
      "[nltk_data]     C:\\Users\\user\\AppData\\Roaming\\nltk_data...\n",
      "[nltk_data]   Package punkt is already up-to-date!\n"
     ]
    },
    {
     "data": {
      "text/html": [
       "<div>\n",
       "<style scoped>\n",
       "    .dataframe tbody tr th:only-of-type {\n",
       "        vertical-align: middle;\n",
       "    }\n",
       "\n",
       "    .dataframe tbody tr th {\n",
       "        vertical-align: top;\n",
       "    }\n",
       "\n",
       "    .dataframe thead th {\n",
       "        text-align: right;\n",
       "    }\n",
       "</style>\n",
       "<table border=\"1\" class=\"dataframe\">\n",
       "  <thead>\n",
       "    <tr style=\"text-align: right;\">\n",
       "      <th></th>\n",
       "      <th>text</th>\n",
       "      <th>unigrams</th>\n",
       "    </tr>\n",
       "  </thead>\n",
       "  <tbody>\n",
       "    <tr>\n",
       "      <th>0</th>\n",
       "      <td>Calls on retards</td>\n",
       "      <td>[Calls, on, retards]</td>\n",
       "    </tr>\n",
       "    <tr>\n",
       "      <th>1</th>\n",
       "      <td>Stunt as in like why did they even make a big ...</td>\n",
       "      <td>[Stunt, as, in, like, why, did, they, even, ma...</td>\n",
       "    </tr>\n",
       "    <tr>\n",
       "      <th>2</th>\n",
       "      <td>Seeing lots of red in the ticker.</td>\n",
       "      <td>[Seeing, lots, of, red, in, the, ticker, .]</td>\n",
       "    </tr>\n",
       "    <tr>\n",
       "      <th>3</th>\n",
       "      <td>Vision Marine Technologies Inc. is rewriting t...</td>\n",
       "      <td>[Vision, Marine, Technologies, Inc., is, rewri...</td>\n",
       "    </tr>\n",
       "  </tbody>\n",
       "</table>\n",
       "</div>"
      ],
      "text/plain": [
       "                                                text  \\\n",
       "0                                   Calls on retards   \n",
       "1  Stunt as in like why did they even make a big ...   \n",
       "2                  Seeing lots of red in the ticker.   \n",
       "3  Vision Marine Technologies Inc. is rewriting t...   \n",
       "\n",
       "                                            unigrams  \n",
       "0                               [Calls, on, retards]  \n",
       "1  [Stunt, as, in, like, why, did, they, even, ma...  \n",
       "2        [Seeing, lots, of, red, in, the, ticker, .]  \n",
       "3  [Vision, Marine, Technologies, Inc., is, rewri...  "
      ]
     },
     "execution_count": 25,
     "metadata": {},
     "output_type": "execute_result"
    }
   ],
   "source": [
    "# Exercise 9\n",
    "\n",
    "import nltk\n",
    "nltk.download(\"punkt\")\n",
    "\n",
    "# Tokenize each text into unigrams (single words)\n",
    "# This means we split each sentence into smaller units (words, emails, etc.)\n",
    "df['unigrams'] = df['text'].apply(lambda x: nltk.word_tokenize(str(x)))\n",
    "\n",
    "# Show first 4 rows with unigrams added\n",
    "df[[\"text\", \"unigrams\"]].head(4)"
   ]
  },
  {
   "cell_type": "code",
   "execution_count": 27,
   "metadata": {},
   "outputs": [],
   "source": [
    "from sklearn.feature_extraction.text import CountVectorizer\n",
    "\n",
    "# make a vectorizer\n",
    "count_vect = CountVectorizer()\n",
    "\n",
    "# get the analyzer function so we can run it on any string\n",
    "analyze = count_vect.build_analyzer()"
   ]
  },
  {
   "cell_type": "code",
   "execution_count": 28,
   "metadata": {},
   "outputs": [
    {
     "name": "stdout",
     "output_type": "stream",
     "text": [
      "['calls', 'on', 'retards']\n",
      "token count: 3\n"
     ]
    }
   ],
   "source": [
    "first_idx = df['text'].first_valid_index()\n",
    "\n",
    "tokens = analyze(str(df.loc[first_idx, 'text']))\n",
    "\n",
    "# print tokens + how many we got \n",
    "print(tokens)\n",
    "print(\"token count:\", len(tokens))"
   ]
  },
  {
   "cell_type": "code",
   "execution_count": 29,
   "metadata": {},
   "outputs": [
    {
     "data": {
      "text/plain": [
       "['calls', 'on', 'retards']"
      ]
     },
     "execution_count": 29,
     "metadata": {},
     "output_type": "execute_result"
    }
   ],
   "source": [
    "analyze(df[\"text\".iloc[0])"
   ]
  },
  {
   "cell_type": "code",
   "execution_count": 33,
   "metadata": {},
   "outputs": [],
   "source": [
    "X_counts = count_vect.fit_transform(df['text'].astype(str))"
   ]
  },
  {
   "cell_type": "code",
   "execution_count": 34,
   "metadata": {},
   "outputs": [
    {
     "name": "stdout",
     "output_type": "stream",
     "text": [
      "(847, 4346)\n"
     ]
    }
   ],
   "source": [
    "# Exercise 10\n",
    "\n",
    "# First check the shape of the term-document matrix\n",
    "print(X_counts.shape)\n"
   ]
  },
  {
   "cell_type": "code",
   "execution_count": 35,
   "metadata": {},
   "outputs": [
    {
     "name": "stdout",
     "output_type": "stream",
     "text": [
      "[[0 0 0 0 0 0 0 0 0 0 0 0 0 0 0 0 0 0 0 0 0 0 0 0 0 0 0 0 0 0 0 0 0 0 0 0\n",
      "  0 0 0 0 0 0 0 0 0 0 0 0 0 0 0 0 0 0 0 0 0 0 0 0 0 0 0 0 0 0 0 0 0 0 0 0\n",
      "  0 0 0 0 0 0 0 0 0 0 0 0 0 0 0 0 0 0 0 0 0 0 0 0 0 0 0 0]\n",
      " [0 0 0 0 0 0 0 0 0 0 0 0 0 0 0 0 0 0 0 0 0 0 0 0 0 0 0 0 0 0 0 0 0 0 0 0\n",
      "  0 0 0 0 0 0 0 0 0 0 0 0 0 0 0 0 0 0 0 0 0 0 0 0 0 0 0 0 0 0 0 0 0 0 0 0\n",
      "  0 0 0 0 0 0 0 0 0 0 0 0 0 0 0 0 0 0 0 0 0 0 0 0 0 0 0 0]\n",
      " [0 0 0 0 0 0 0 0 0 0 0 0 0 0 0 0 0 0 0 0 0 0 0 0 0 0 0 0 0 0 0 0 0 0 0 0\n",
      "  0 0 0 0 0 0 0 0 0 0 0 0 0 0 0 0 0 0 0 0 0 0 0 0 0 0 0 0 0 0 0 0 0 0 0 0\n",
      "  0 0 0 0 0 0 0 0 0 0 0 0 0 0 0 0 0 0 0 0 0 0 0 0 0 0 0 0]\n",
      " [0 0 0 0 0 0 0 0 0 0 0 0 0 0 0 0 0 0 3 0 0 0 0 0 0 0 0 0 0 0 0 0 0 0 0 0\n",
      "  0 0 0 0 0 0 0 0 0 0 0 0 0 0 0 0 0 0 0 0 0 0 0 0 0 0 0 0 0 0 0 0 0 0 0 0\n",
      "  0 0 0 0 0 0 0 0 0 0 0 0 0 0 0 0 0 0 0 0 0 0 0 0 0 0 0 0]\n",
      " [0 0 0 0 0 0 0 0 0 0 0 0 0 0 0 0 0 0 0 0 0 0 0 0 0 0 0 0 0 0 0 0 0 0 0 0\n",
      "  0 0 0 0 0 0 0 0 0 0 0 0 0 0 0 0 0 0 0 0 0 0 0 0 0 0 0 0 0 0 0 0 0 0 0 0\n",
      "  0 0 0 0 0 0 0 0 0 0 0 0 0 0 0 0 0 0 0 0 0 0 0 0 0 0 0 0]]\n"
     ]
    }
   ],
   "source": [
    "# look at first 5 docs against first 100 terms (dense slice)\n",
    "print(X_counts[0:5, 0:100].toarray())"
   ]
  },
  {
   "cell_type": "code",
   "execution_count": 36,
   "metadata": {},
   "outputs": [],
   "source": [
    "# Get vocabulary (all terms)\n",
    "feature_names = count_vect.get_feature_names_out()"
   ]
  },
  {
   "cell_type": "code",
   "execution_count": 38,
   "metadata": {},
   "outputs": [
    {
     "name": "stdout",
     "output_type": "stream",
     "text": [
      "Words in row 5: ['he', 'didn', 'say', 'thank', 'you']\n"
     ]
    }
   ],
   "source": [
    "row_idx = 4\n",
    "\n",
    "# Step 6: Find which columns in this row are nonzero (the words that appear)\n",
    "nonzero_indices = X_counts[row_idx].nonzero()[1]\n",
    "\n",
    "# Step 7: Map those column indices back to actual words\n",
    "words_in_row5 = [feature_names[i] for i in nonzero_indices]\n",
    "\n",
    "print(\"Words in row 5:\", words_in_row5)"
   ]
  },
  {
   "cell_type": "code",
   "execution_count": 39,
   "metadata": {},
   "outputs": [
    {
     "data": {
      "image/png": "[encoded data removed]",
      "text/plain": [
       "<Figure size 900x700 with 2 Axes>"
      ]
     },
     "metadata": {},
     "output_type": "display_data"
    }
   ],
   "source": [
    "# Exercise 11 \n",
    "\n",
    "# Part A: Tiny demo heatmap (first 20 docs × first 20 terms) \n",
    "\n",
    "import pandas as pd\n",
    "import numpy as np\n",
    "import matplotlib.pyplot as plt\n",
    "import seaborn as sns\n",
    "\n",
    "# We reuse the fitted vectorizer + matrix from Exercise 10:\n",
    "# count_vect: has the learned vocabulary\n",
    "# X_counts: sparse matrix (rows = docs, cols = terms, values = counts)\n",
    "\n",
    "# we the first 20 feature names (terms) just for a small, readable demo\n",
    "terms_20 = count_vect.get_feature_names_out()[0:20]\n",
    "\n",
    "plot_x = [f\"term_{i}\" for i in range(20)]\n",
    "\n",
    "docs_20_idx = list(df.index)[0:20]\n",
    "plot_y = [f\"doc_{i}\" for i in docs_20_idx]\n",
    "\n",
    "# we slice the sparse matrix: first 20 docs × first 20 terms, then convert to dense array\n",
    "plot_z = X_counts[0:20, 0:20].toarray()\n",
    "\n",
    "# we put it into a DataFrame so seaborn can draw it easily\n",
    "df_todraw = pd.DataFrame(plot_z, columns=plot_x, index=plot_y)\n",
    "\n",
    "# we then draw the tiny heatmap \n",
    "plt.subplots(figsize=(9, 7))\n",
    "ax = sns.heatmap(df_todraw, cmap=\"PuRd\", vmin=0, vmax=1, annot=True)\n",
    "ax.set_title(\"Tiny demo heatmap (first 20 docs × first 20 terms)\")\n",
    "plt.show()"
   ]
  },
  {
   "cell_type": "code",
   "execution_count": 40,
   "metadata": {},
   "outputs": [
    {
     "data": {
      "image/png": "[encoded data removed]",
      "text/plain": [
       "<Figure size 1200x700 with 2 Axes>"
      ]
     },
     "metadata": {},
     "output_type": "display_data"
    }
   ],
   "source": [
    "# Part B: Practical heatmap (sample docs × most-common terms)\n",
    "\n",
    "# Plotting the FULL matrix is not helpful (too big + mostly zeros).\n",
    "# Strategy:\n",
    "#   - pick M random documents\n",
    "#   - pick K most frequent terms (across the whole corpus)\n",
    "#   - slice to M×K and plot\n",
    "# This keeps it readable + fast, but still informative.\n",
    "\n",
    "import numpy as np\n",
    "\n",
    "M = 100  # how many documents to sample\n",
    "K = 40   # how many top terms to keep\n",
    "\n",
    "# we andomly choose M row indices from our matrix\n",
    "rng = np.random.default_rng(42)\n",
    "doc_idx = rng.choice(X_counts.shape[0], size=min(M, X_counts.shape[0]), replace=False)\n",
    "\n",
    "# we find the top-K terms by total frequency \n",
    "term_totals = np.asarray(X_counts.sum(axis=0)).ravel()  \n",
    "top_term_idx = np.argsort(term_totals)[-K:]             \n",
    "\n",
    "# we then slice the sparse matrix (docs × top terms) and convert to dense\n",
    "sub = X_counts[doc_idx][:, top_term_idx].toarray()\n",
    "\n",
    "# build readable labels\n",
    "feature_names = count_vect.get_feature_names_out()\n",
    "top_terms = [feature_names[j] for j in top_term_idx]\n",
    "doc_labels = [f\"doc_{i}\" for i in doc_idx]\n",
    "\n",
    "# put into a DataFrame for seaborn\n",
    "df_sub = pd.DataFrame(sub, index=doc_labels, columns=top_terms)\n",
    "\n",
    "# draw the heatmap \n",
    "plt.figure(figsize=(12, 7))\n",
    "ax = sns.heatmap(df_sub, cmap=\"PuRd\")\n",
    "ax.set_title(f\"Heatmap of {len(doc_idx)} sampled docs × {len(top_terms)} most common terms\")\n",
    "ax.set_xlabel(\"terms\")\n",
    "ax.set_ylabel(\"documents\")\n",
    "plt.tight_layout()\n",
    "plt.show()\n"
   ]
  },
  {
   "cell_type": "markdown",
   "metadata": {},
   "source": [
    "# Phase 2"
   ]
  },
  {
   "cell_type": "code",
   "execution_count": null,
   "metadata": {},
   "outputs": [],
   "source": [
    "### Begin Assignment Here"
   ]
  }
 ],
 "metadata": {
  "kernelspec": {
   "display_name": "Python (dm2025lab)",
   "language": "python",
   "name": "dm2025lab"
  },
  "language_info": {
   "codemirror_mode": {
    "name": "ipython",
    "version": 3
   },
   "file_extension": ".py",
   "mimetype": "text/x-python",
   "name": "python",
   "nbconvert_exporter": "python",
   "pygments_lexer": "ipython3",
   "version": "3.11.5"
  }
 },
 "nbformat": 4,
 "nbformat_minor": 4
}
